{
    "cells": [
       {
         "cell_type": "markdown",
         "metadata": {
           "id": "view-in-github"
         },
         "source": [
           "[![Open In Colab](https://colab.research.google.com/assets/colab-badge.svg)](https://colab.research.google.com/github/camenduru/stable-diffusion-webui-modal/blob/main/stable_diffusion_webui_modal.ipynb)"
         ]
       },
     {
      "cell_type": "code",
      "execution_count": null,
      "metadata": {},
      "outputs": [],
      "source": [
       "!pip install modal\n",
       "!modal token set --token-id TOKEN-ID --token-secret TOKEN-SECRET"
      ]
     },
     {
      "cell_type": "code",
      "execution_count": null,
      "metadata": {},
      "outputs": [],
      "source": [
       "!modal run run.py"
      ]
     }
    ],
    "metadata": {
     "language_info": {
      "name": "python"
     },
     "orig_nbformat": 4
    },
    "nbformat": 4,
    "nbformat_minor": 2
   }